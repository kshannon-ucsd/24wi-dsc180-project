{
 "cells": [
  {
   "cell_type": "markdown",
   "metadata": {},
   "source": [
    "### Importing Packages"
   ]
  },
  {
   "cell_type": "code",
   "execution_count": 11,
   "metadata": {},
   "outputs": [],
   "source": [
    "import pandas as pd\n",
    "from datetime import datetime\n",
    "import numpy as np\n",
    "import pydicom\n",
    "from PIL import Image\n",
    "import matplotlib.pyplot as plt"
   ]
  },
  {
   "cell_type": "markdown",
   "metadata": {},
   "source": [
    "### Defining Data Preprocessing Function"
   ]
  },
  {
   "cell_type": "code",
   "execution_count": 12,
   "metadata": {},
   "outputs": [],
   "source": [
    "def date_format(date):\n",
    "    date = str(date)\n",
    "    formatted_date = f\"{date[:4]}-{date[4:6]}-{date[6:]}\"\n",
    "    return formatted_date"
   ]
  },
  {
   "cell_type": "code",
   "execution_count": 13,
   "metadata": {},
   "outputs": [],
   "source": [
    "def time_format(time):\n",
    "    time = str(time)\n",
    "    time = time.split(\".\")[0]\n",
    "    while len(time) != 6:\n",
    "        time = \"0\" + time\n",
    "    formatted_time = f\"{time[:2]}:{time[2:4]}:{time[4:6]}\"\n",
    "    return formatted_time"
   ]
  },
  {
   "cell_type": "code",
   "execution_count": 14,
   "metadata": {},
   "outputs": [],
   "source": [
    "def convert_datetime(input_date):\n",
    "    return datetime.fromisoformat(input_date)"
   ]
  },
  {
   "cell_type": "markdown",
   "metadata": {},
   "source": [
    "### Loading Data"
   ]
  },
  {
   "cell_type": "code",
   "execution_count": 15,
   "metadata": {},
   "outputs": [],
   "source": [
    "subset = pd.read_csv(\"../data/external/subset.csv\")\n",
    "segmented = pd.read_csv(\"../data/external/CXLSeg-segmented.csv\")\n",
    "xray = pd.read_csv(\"../data/external/mimic-cxr-2.0.0-metadata.csv\")"
   ]
  },
  {
   "cell_type": "markdown",
   "metadata": {},
   "source": [
    "### Preprocessing Data"
   ]
  },
  {
   "cell_type": "code",
   "execution_count": 16,
   "metadata": {},
   "outputs": [],
   "source": [
    "subset[\"admittime\"] = subset[\"admittime\"].apply(convert_datetime)\n",
    "subset[\"dischtime\"] = subset[\"dischtime\"].apply(convert_datetime)"
   ]
  },
  {
   "cell_type": "code",
   "execution_count": 17,
   "metadata": {},
   "outputs": [],
   "source": [
    "xray = xray.assign(formatted_date = xray[\"StudyDate\"].apply(date_format))\n",
    "xray = xray.assign(formatted_time = xray[\"StudyTime\"].apply(time_format))\n",
    "xray = xray.assign(studytime = (xray[\"formatted_date\"] + \" \" + xray[\"formatted_time\"]).apply(convert_datetime))"
   ]
  },
  {
   "cell_type": "markdown",
   "metadata": {},
   "source": [
    "### Merging"
   ]
  },
  {
   "cell_type": "code",
   "execution_count": null,
   "metadata": {},
   "outputs": [],
   "source": [
    "# Subsetting xray dataset to make merge more efficient\n",
    "xray_merge = xray[[\"subject_id\", \"study_id\", \"ViewPosition\", \"studytime\"]]\n",
    "# First merge\n",
    "merging = subset.merge(xray_merge, left_on = \"subject_id\", right_on = \"subject_id\")\n",
    "# Matching each xray to hospital admission\n",
    "matched_dates = merging[(merging[\"studytime\"] >= merging[\"admittime\"]) & (merging[\"studytime\"] <= merging[\"dischtime\"])].reset_index(drop = True)\n",
    "# Preprocessing segmented for merging\n",
    "segmented_merged = segmented[[\"subject_id\", \"study_id\", \"dicom_id\", \"DicomPath\", \"No Finding\"]]\n",
    "segmented_merged[\"No Finding\"] = segmented_merged[\"No Finding\"].fillna(-1)\n",
    "segmented_merged[\"Abnormal\"] = (segmented_merged[\"No Finding\"] * -1)\n",
    "segmented_merged = segmented_merged.drop(columns = [\"No Finding\"])\n",
    "# Final merge\n",
    "complete_merged = matched_dates.merge(segmented_merged, on = [\"subject_id\", \"study_id\"])[[\"subject_id\", \"hadm_id\", \"stay_id\", \"study_id\", \n",
    "                                                                       \"admittime\", \"dischtime\", \"studytime\", \"ViewPosition\",\n",
    "                                                                       \"dicom_id\", \"DicomPath\", \"Abnormal\", \"los\", \n",
    "                                                                       \"chronic_pulmonary_disease\", \"sepsis3\"]]\n",
    "\n",
    "complete_merged"
   ]
  },
  {
   "cell_type": "markdown",
   "metadata": {},
   "source": [
    "### Readmission"
   ]
  },
  {
   "cell_type": "code",
   "execution_count": 19,
   "metadata": {},
   "outputs": [],
   "source": [
    "# Subset for only pulmonary \n",
    "pulmonary = subset[subset[\"chronic_pulmonary_disease\"] == 1]"
   ]
  },
  {
   "cell_type": "code",
   "execution_count": null,
   "metadata": {},
   "outputs": [],
   "source": [
    "# Finding readmitted patients\n",
    "readmission = pulmonary.merge(pulmonary, on = \"subject_id\")\n",
    "readmission[\"admittime_y\"] = pd.to_datetime(readmission[\"admittime_y\"])\n",
    "readmission[\"admittime_x\"] = pd.to_datetime(readmission[\"admittime_x\"])\n",
    "readmission[\"dischtime_x\"] = pd.to_datetime(readmission[\"dischtime_x\"])\n",
    "readmission[\"dischtime_y\"] = pd.to_datetime(readmission[\"dischtime_y\"])\n",
    "readmission = readmission[readmission[\"admittime_y\"] > readmission[\"dischtime_x\"]]\n",
    "readmission[\"time_between_readmission\"] = readmission[\"admittime_y\"] - readmission[\"dischtime_x\"]\n",
    "\n",
    "readmission"
   ]
  },
  {
   "cell_type": "code",
   "execution_count": null,
   "metadata": {},
   "outputs": [],
   "source": [
    "# Finding patients who weren't initially admitted with sepsis and then were readmitted with sepsis\n",
    "sepsis_readmission = readmission[(readmission[\"sepsis3_x\"] == False) & (readmission[\"sepsis3_y\"] == True)].sort_values(\"time_between_readmission\")\n",
    "sepsis_readmission = sepsis_readmission.assign(days_between_readmission = sepsis_readmission[\"time_between_readmission\"].dt.days)\n",
    "\n",
    "sepsis_readmission"
   ]
  }
 ],
 "metadata": {
  "kernelspec": {
   "display_name": "Python 3",
   "language": "python",
   "name": "python3"
  },
  "language_info": {
   "codemirror_mode": {
    "name": "ipython",
    "version": 3
   },
   "file_extension": ".py",
   "mimetype": "text/x-python",
   "name": "python",
   "nbconvert_exporter": "python",
   "pygments_lexer": "ipython3",
   "version": "3.11.11"
  }
 },
 "nbformat": 4,
 "nbformat_minor": 2
}
