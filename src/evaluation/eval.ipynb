{
 "cells": [
  {
   "cell_type": "markdown",
   "id": "4969f6ff-5270-498c-908f-2677f8a7fc3a",
   "metadata": {},
   "source": [
    "# Model 1 Evaluation\n",
    "\n",
    "### Importing Dependenceies"
   ]
  },
  {
   "cell_type": "code",
   "execution_count": null,
   "id": "8d4cb8be-3cbd-4402-826f-5771bcd2c66a",
   "metadata": {},
   "outputs": [],
   "source": [
    "import os\n",
    "import keras\n",
    "import pandas as pd\n",
    "from tensorflow.keras.preprocessing.image import ImageDataGenerator\n",
    "from sklearn.metrics import confusion_matrix, classification_report, auc, roc_curve\n",
    "import matplotlib.pyplot as plt\n",
    "import seaborn as sns"
   ]
  },
  {
   "cell_type": "markdown",
   "id": "f928c568-f6cd-4488-96bc-fd6492dc5097",
   "metadata": {},
   "source": [
    "### Loading Model 1"
   ]
  },
  {
   "cell_type": "code",
   "execution_count": null,
   "id": "736fb9f6-b015-4cda-80ef-ebb235ed2ef1",
   "metadata": {},
   "outputs": [],
   "source": [
    "model = keras.saving.load_model(\"../notebooks/final_model_1.keras\")"
   ]
  },
  {
   "cell_type": "markdown",
   "id": "fbd02ff3-235b-406e-a930-135f778cf423",
   "metadata": {},
   "source": [
    "### Loading Test Data"
   ]
  },
  {
   "cell_type": "code",
   "execution_count": null,
   "id": "7ed7aaa6-9de9-4fe3-988d-9b4f54651311",
   "metadata": {},
   "outputs": [],
   "source": [
    "test_datagen = ImageDataGenerator()\n",
    "test_df = {'filename': [], 'label': [], 'binary_label': []}\n",
    "\n",
    "for file in os.listdir('../../data/processed/val'):\n",
    "    if file.endswith('.jpeg'):\n",
    "        if 'virus' in file or 'bacteria' in file:\n",
    "            test_df['label'].append('1')\n",
    "            test_df['binary_label'].append(True)\n",
    "        else:\n",
    "            test_df['label'].append('0')\n",
    "            test_df['binary_label'].append(False)\n",
    "            \n",
    "        test_df['filename'].append(file) \n",
    "\n",
    "test_df = pd.DataFrame(test_df)\n",
    "\n",
    "display(test_df)\n",
    "\n",
    "test_generator = test_datagen.flow_from_dataframe(\n",
    "    test_df, directory='../../data/processed/val',\n",
    "    x_col='filename', \n",
    "    y_col='label', \n",
    "    target_size=(224, 224), \n",
    "    batch_size=32, \n",
    "    class_mode='binary', \n",
    "    validate_filenames=False,\n",
    "    shuffle=False)"
   ]
  },
  {
   "cell_type": "code",
   "execution_count": null,
   "id": "ca640823-587a-4805-8cfc-e8cc5e8c65d2",
   "metadata": {},
   "outputs": [],
   "source": [
    "true_labels = test_generator.classes  # True class labels"
   ]
  },
  {
   "cell_type": "code",
   "execution_count": null,
   "id": "03b7f433-67ba-4b28-b28e-96c182e8f786",
   "metadata": {},
   "outputs": [],
   "source": [
    "y_pred = model.predict(test_generator)\n",
    "\n",
    "y_pred_binary = (y_pred > 0.5).astype(int)  # Threshold at 0.5 for binary classification\n",
    "\n",
    "save_dir = \"../../plots\""
   ]
  },
  {
   "cell_type": "code",
   "execution_count": null,
   "id": "db58a1db-1a6a-428f-b839-0514a0860dc4",
   "metadata": {},
   "outputs": [],
   "source": [
    "report = classification_report(true_labels, y_pred_binary)\n",
    "print(report)\n",
    "\n",
    "with open(os.path.join(save_dir, \"classification_report.txt\"), \"w\") as f:\n",
    "    f.write(report)"
   ]
  },
  {
   "cell_type": "code",
   "execution_count": null,
   "id": "3ad94537-c1a1-4eb9-ac18-b6c77232b22b",
   "metadata": {},
   "outputs": [],
   "source": [
    "cm = confusion_matrix(true_labels, y_pred_binary)\n",
    "\n",
    "# Plotting the confusion matrix\n",
    "plt.figure(figsize=(8,6))\n",
    "sns.heatmap(cm, annot=True, fmt='d', cmap='Blues')\n",
    "plt.xlabel('Predicted')\n",
    "plt.ylabel('Actual')\n",
    "plt.title('Confusion Matrix')\n",
    "plt.savefig(os.path.join(save_dir, \"model_1_confusion_matrix.png\"))  # Save the figure\n",
    "plt.show()"
   ]
  },
  {
   "cell_type": "code",
   "execution_count": null,
   "id": "6112cd0c-5995-4f90-9fe9-b77af4528c0d",
   "metadata": {},
   "outputs": [],
   "source": [
    "fpr, tpr, threshold = roc_curve(true_labels, y_pred)\n",
    "roc_auc = auc(fpr, tpr)\n",
    "\n",
    "plt.title('Receiver Operating Characteristic')\n",
    "plt.plot(fpr, tpr, 'b', label = 'AUC = %0.2f' % roc_auc)\n",
    "plt.legend(loc = 'lower right')\n",
    "plt.plot([0, 1], [0, 1],'r--')\n",
    "plt.xlim([0, 1])\n",
    "plt.ylim([0, 1])\n",
    "plt.ylabel('True Positive Rate')\n",
    "plt.xlabel('False Positive Rate')\n",
    "plt.savefig(os.path.join(save_dir, \"model_1_roc_curve.png\"))  # Save the figure\n",
    "plt.show()\n",
    "plt.close()"
   ]
  },
  {
   "cell_type": "code",
   "execution_count": null,
   "id": "6445d562-ca8c-445c-9f1a-8e5805164da2",
   "metadata": {},
   "outputs": [],
   "source": []
  }
 ],
 "metadata": {
  "kernelspec": {
   "display_name": "Python 3 (ipykernel)",
   "language": "python",
   "name": "python3"
  },
  "language_info": {
   "codemirror_mode": {
    "name": "ipython",
    "version": 3
   },
   "file_extension": ".py",
   "mimetype": "text/x-python",
   "name": "python",
   "nbconvert_exporter": "python",
   "pygments_lexer": "ipython3",
   "version": "3.11.11"
  }
 },
 "nbformat": 4,
 "nbformat_minor": 5
}
