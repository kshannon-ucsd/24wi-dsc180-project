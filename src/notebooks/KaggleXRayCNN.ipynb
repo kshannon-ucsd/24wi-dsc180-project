{
 "cells": [
  {
   "cell_type": "markdown",
   "id": "823746dd-43d3-44f4-8edc-dad95b3205db",
   "metadata": {},
   "source": [
    "# DSC 180B CNN Notebook (Kaggle Dataset)\n",
    "\n",
    "### Importing Needed Libraries"
   ]
  },
  {
   "cell_type": "code",
   "execution_count": 16,
   "id": "6cf024e3-b5d6-4638-ad04-2309bec88f05",
   "metadata": {},
   "outputs": [
    {
     "name": "stdout",
     "output_type": "stream",
     "text": [
      "Found existing installation: opencv-python-headless 4.11.0.86\n",
      "Uninstalling opencv-python-headless-4.11.0.86:\n",
      "  Successfully uninstalled opencv-python-headless-4.11.0.86\n",
      "\u001b[33mWARNING: Skipping opencv-python as it is not installed.\u001b[0m\u001b[33m\n",
      "\u001b[0m\u001b[33mWARNING: Skipping opencv-contrib-python as it is not installed.\u001b[0m\u001b[33m\n",
      "\u001b[0mCollecting opencv-python-headless\n",
      "  Using cached opencv_python_headless-4.11.0.86-cp37-abi3-manylinux_2_17_x86_64.manylinux2014_x86_64.whl.metadata (20 kB)\n",
      "Requirement already satisfied: numpy>=1.21.2 in /opt/conda/lib/python3.11/site-packages (from opencv-python-headless) (1.26.4)\n",
      "Using cached opencv_python_headless-4.11.0.86-cp37-abi3-manylinux_2_17_x86_64.manylinux2014_x86_64.whl (50.0 MB)\n",
      "Installing collected packages: opencv-python-headless\n",
      "Successfully installed opencv-python-headless-4.11.0.86\n",
      "Requirement already satisfied: kaggle in /opt/conda/lib/python3.11/site-packages (1.7.4)\n",
      "Requirement already satisfied: bleach in /opt/conda/lib/python3.11/site-packages (from kaggle) (6.2.0)\n",
      "Requirement already satisfied: certifi>=14.05.14 in /opt/conda/lib/python3.11/site-packages (from kaggle) (2025.1.31)\n",
      "Requirement already satisfied: charset-normalizer in /opt/conda/lib/python3.11/site-packages (from kaggle) (3.4.1)\n",
      "Requirement already satisfied: idna in /opt/conda/lib/python3.11/site-packages (from kaggle) (3.10)\n",
      "Requirement already satisfied: protobuf in /opt/conda/lib/python3.11/site-packages (from kaggle) (4.25.3)\n",
      "Requirement already satisfied: python-dateutil>=2.5.3 in /opt/conda/lib/python3.11/site-packages (from kaggle) (2.9.0.post0)\n",
      "Requirement already satisfied: python-slugify in /opt/conda/lib/python3.11/site-packages (from kaggle) (8.0.4)\n",
      "Requirement already satisfied: requests in /opt/conda/lib/python3.11/site-packages (from kaggle) (2.32.3)\n",
      "Requirement already satisfied: setuptools>=21.0.0 in /opt/conda/lib/python3.11/site-packages (from kaggle) (75.8.2)\n",
      "Requirement already satisfied: six>=1.10 in /opt/conda/lib/python3.11/site-packages (from kaggle) (1.17.0)\n",
      "Requirement already satisfied: text-unidecode in /opt/conda/lib/python3.11/site-packages (from kaggle) (1.3)\n",
      "Requirement already satisfied: tqdm in /opt/conda/lib/python3.11/site-packages (from kaggle) (4.67.1)\n",
      "Requirement already satisfied: urllib3>=1.15.1 in /opt/conda/lib/python3.11/site-packages (from kaggle) (1.26.19)\n",
      "Requirement already satisfied: webencodings in /opt/conda/lib/python3.11/site-packages (from kaggle) (0.5.1)\n"
     ]
    }
   ],
   "source": [
    "!pip uninstall opencv-python-headless -y \n",
    "!pip uninstall opencv-python -y\n",
    "!pip uninstall opencv-contrib-python -y\n",
    "!pip install opencv-python-headless\n",
    "!pip install kaggle"
   ]
  },
  {
   "cell_type": "code",
   "execution_count": 22,
   "id": "d8d8ca88-417b-44d9-9ff0-562d525a2c16",
   "metadata": {},
   "outputs": [],
   "source": [
    "import json\n",
    "import pandas as pd\n",
    "import matplotlib.pylab as plt\n",
    "import numpy as np\n",
    "import torch\n",
    "import cv2\n",
    "import tensorflow as tf\n",
    "from sklearn.model_selection import train_test_split\n",
    "import os\n",
    "from pathlib import Path\n",
    "import zipfile\n",
    "from torchvision import models\n",
    "import torch.nn as nn\n",
    "from tqdm import tqdm\n",
    "import torchvision.transforms as transforms\n",
    "from tensorflow.keras.preprocessing.image import ImageDataGenerator\n",
    "from tensorflow.keras.applications.resnet50 import preprocess_input\n",
    "from PIL import Image"
   ]
  },
  {
   "cell_type": "code",
   "execution_count": 24,
   "id": "5d3dac93-2f18-48b4-8984-60b7cae45e32",
   "metadata": {},
   "outputs": [
    {
     "name": "stdin",
     "output_type": "stream",
     "text": [
      "Enter your Kaggle Username:  rohanduvur\n",
      "Enter your generated Kaggle API key:  27b02a7a4196cad7e52cef5689776e91\n"
     ]
    },
    {
     "name": "stdout",
     "output_type": "stream",
     "text": [
      "Dataset downloaded successfully!\n"
     ]
    },
    {
     "name": "stderr",
     "output_type": "stream",
     "text": [
      "sh: 1: kaggle: Permission denied\n"
     ]
    }
   ],
   "source": [
    "def setup_kaggle(username: str, key: str):\n",
    "    \"\"\"\n",
    "    Configures Kaggle API access and downloads the Chest X-ray Pneumonia dataset.\n",
    "    :param username: Kaggle username\n",
    "    :param key: Kaggle API key\n",
    "    \"\"\"\n",
    "    # Define the kaggle credentials path\n",
    "    kaggle_dir = Path.home() / \".kaggle\"  # Use the user's home directory\n",
    "    kaggle_dir.mkdir(parents=True, exist_ok=True)\n",
    "    kaggle_json_path = kaggle_dir / \"kaggle.json\"\n",
    "    \n",
    "    # Write Kaggle credentials\n",
    "    kaggle_credentials = {\"username\": username, \"key\": key}\n",
    "    with open(kaggle_json_path, \"w\") as f:\n",
    "        json.dump(kaggle_credentials, f)\n",
    "    \n",
    "    # Set permissions for security\n",
    "    os.chmod(kaggle_json_path, 0o600)\n",
    "    \n",
    "    # Ensure kaggle CLI is in the path\n",
    "    os.environ[\"KAGGLE_CONFIG_DIR\"] = str(kaggle_dir)\n",
    "        \n",
    "    # Download the dataset\n",
    "    dataset_path = Path(\"chest_xray_pneumonia\")\n",
    "    dataset_path.mkdir(exist_ok=True)\n",
    "\n",
    "    os.system(f\"kaggle datasets download -d paultimothymooney/chest-xray-pneumonia -p {dataset_path} --unzip\")\n",
    "    \n",
    "    print(\"Dataset downloaded successfully!\")\n",
    "    \n",
    "    # Define the unpack path\n",
    "    unpack_path = Path(\"../../data/raw\")\n",
    "    unpack_path.mkdir(parents=True, exist_ok=True)\n",
    "    \n",
    "    # Unpack the zipped dataset into the specified path\n",
    "    zip_file = dataset_path / \"chest-xray-pneumonia.zip\"\n",
    "    \n",
    "    if zip_file.exists():\n",
    "        with zipfile.ZipFile(zip_file, 'r') as zip_ref:\n",
    "            zip_ref.extractall(unpack_path)\n",
    "        print(f\"Dataset unpacked successfully to {unpack_path}\")\n",
    "    else:\n",
    "        print(\"Zipped dataset not found!\")\n",
    "\n",
    "# Get user input for Kaggle credentials\n",
    "username = input(\"Enter your Kaggle Username: \")\n",
    "key = input(\"Enter your generated Kaggle API key: \")\n",
    "\n",
    "setup_kaggle(username, key)"
   ]
  },
  {
   "cell_type": "code",
   "execution_count": null,
   "id": "04456901-0b00-4503-89ee-6f56a3668a3f",
   "metadata": {},
   "outputs": [],
   "source": []
  }
 ],
 "metadata": {
  "kernelspec": {
   "display_name": "Python 3 (ipykernel)",
   "language": "python",
   "name": "python3"
  },
  "language_info": {
   "codemirror_mode": {
    "name": "ipython",
    "version": 3
   },
   "file_extension": ".py",
   "mimetype": "text/x-python",
   "name": "python",
   "nbconvert_exporter": "python",
   "pygments_lexer": "ipython3",
   "version": "3.11.11"
  }
 },
 "nbformat": 4,
 "nbformat_minor": 5
}
