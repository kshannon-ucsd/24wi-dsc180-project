{
 "cells": [
  {
   "cell_type": "code",
   "execution_count": 16,
   "metadata": {},
   "outputs": [],
   "source": [
    "import pandas as pd\n",
    "from datetime import datetime"
   ]
  },
  {
   "cell_type": "code",
   "execution_count": 8,
   "metadata": {},
   "outputs": [],
   "source": [
    "complete_merged = pd.read_csv(\"../data/processed/complete_merged.csv\")\n",
    "features = pd.read_csv(\"../data/interim/raw_model2.csv\")"
   ]
  },
  {
   "cell_type": "code",
   "execution_count": 31,
   "metadata": {},
   "outputs": [],
   "source": [
    "def convert_datetime(input_date):\n",
    "    \"\"\"\n",
    "    Takes in date and time of the form YYYY-MM-DD HH:MM:SS and converts it into a datetime object\n",
    "\n",
    "    Args:\n",
    "        input_date (str): String that represents date and time in the form of YYYY-MM-DD HH:MM:SS\n",
    "\n",
    "    Returns:\n",
    "        Datetime object in iso format\n",
    "    \"\"\"\n",
    "    return datetime.fromisoformat(input_date)"
   ]
  },
  {
   "cell_type": "code",
   "execution_count": null,
   "metadata": {},
   "outputs": [],
   "source": [
    "merged = complete_merged.merge(features, on = [\"subject_id\", \"hadm_id\", \"stay_id\"], how = \"left\")\n",
    "merged.dropna(subset=[\"charttime\"], inplace=True)\n",
    "merged[\"charttime\"] = merged[\"charttime\"].apply(convert_datetime)\n",
    "\n",
    "merged"
   ]
  },
  {
   "cell_type": "code",
   "execution_count": null,
   "metadata": {},
   "outputs": [],
   "source": []
  }
 ],
 "metadata": {
  "kernelspec": {
   "display_name": "Python 3",
   "language": "python",
   "name": "python3"
  },
  "language_info": {
   "codemirror_mode": {
    "name": "ipython",
    "version": 3
   },
   "file_extension": ".py",
   "mimetype": "text/x-python",
   "name": "python",
   "nbconvert_exporter": "python",
   "pygments_lexer": "ipython3",
   "version": "3.11.11"
  }
 },
 "nbformat": 4,
 "nbformat_minor": 2
}
